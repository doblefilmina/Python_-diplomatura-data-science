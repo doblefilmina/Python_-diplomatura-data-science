{
  "nbformat": 4,
  "nbformat_minor": 0,
  "metadata": {
    "colab": {
      "provenance": [],
      "authorship_tag": "ABX9TyPkZiWQ+7YK0FIBbSIiGPGV",
      "include_colab_link": true
    },
    "kernelspec": {
      "name": "python3",
      "display_name": "Python 3"
    },
    "language_info": {
      "name": "python"
    }
  },
  "cells": [
    {
      "cell_type": "markdown",
      "metadata": {
        "id": "view-in-github",
        "colab_type": "text"
      },
      "source": [
        "<a href=\"https://colab.research.google.com/github/doblefilmina/Python_-diplomatura-data-science/blob/main/FB__Python_cheat_sheet.ipynb\" target=\"_parent\"><img src=\"https://colab.research.google.com/assets/colab-badge.svg\" alt=\"Open In Colab\"/></a>"
      ]
    },
    {
      "cell_type": "markdown",
      "source": [
        "##Variables and Strings\n",
        "Variables are used to store values. A string is a series of characters, surrounded by single or double quotes."
      ],
      "metadata": {
        "id": "cJnbpnd2MrVz"
      }
    },
    {
      "cell_type": "code",
      "execution_count": 1,
      "metadata": {
        "id": "K8k-wbuy7rtU",
        "colab": {
          "base_uri": "https://localhost:8080/"
        },
        "outputId": "13d1acd8-194e-43fb-b988-a68592f4684c"
      },
      "outputs": [
        {
          "output_type": "stream",
          "name": "stdout",
          "text": [
            "Hello world\n"
          ]
        }
      ],
      "source": [
        "# Hello world\n",
        "print(\"Hello world!\")"
      ]
    },
    {
      "cell_type": "code",
      "source": [
        "# Hello world with a variable\n",
        "msg = \"Hello world!\"\n",
        "print(msg)"
      ],
      "metadata": {
        "colab": {
          "base_uri": "https://localhost:8080/"
        },
        "id": "GTiiy4_vO2iJ",
        "outputId": "dc5ce825-e112-4fd2-9547-f394d013b1b2"
      },
      "execution_count": 2,
      "outputs": [
        {
          "output_type": "stream",
          "name": "stdout",
          "text": [
            "Hello world!\n"
          ]
        }
      ]
    },
    {
      "cell_type": "code",
      "source": [
        "from typing_extensions import Concatenate\n",
        "# Concatenation (combining strings)\n",
        "first_name = 'albert'\n",
        "last_name = 'einstein'\n",
        "full_name = first_name + ' ' + last_name\n",
        "print(full_name)"
      ],
      "metadata": {
        "colab": {
          "base_uri": "https://localhost:8080/"
        },
        "id": "jkd1QrI9RipI",
        "outputId": "f19ef1c5-23ef-4979-e055-d4a8247d8bfd"
      },
      "execution_count": 4,
      "outputs": [
        {
          "output_type": "stream",
          "name": "stdout",
          "text": [
            "albert einstein\n"
          ]
        }
      ]
    },
    {
      "cell_type": "markdown",
      "source": [
        "##Lists\n",
        "A list stores a series of items in a particular order. You access items using an index, or within a loop."
      ],
      "metadata": {
        "id": "D12sp0l3Scq4"
      }
    },
    {
      "cell_type": "code",
      "source": [
        "# Make a list\n",
        "bikes = ['trek' , 'redline', 'giant']\n",
        "\n",
        "#Get the first item in a list\n",
        "first_bike = bikes[0]\n",
        "\n",
        "#Get the last item in a list\n",
        "last_bike = bikes[-1]\n",
        "\n",
        "#Looping through a list\n",
        "for bike in bikes:\n",
        "  print(bike)\n",
        "\n",
        "#Adding items to a list\n",
        "bikes = []\n",
        "bikes.append('trek')\n",
        "bikes.append('redline')\n",
        "bikes.append('giant')\n",
        "\n",
        "print(bikes)\n",
        "\n",
        "#Making numerical lists\n",
        "squares = []\n",
        "for x in range(1,11):\n",
        "  squares.append(x**2)\n",
        "print(squares)\n"
      ],
      "metadata": {
        "colab": {
          "base_uri": "https://localhost:8080/"
        },
        "id": "fr626Fe7SFwn",
        "outputId": "5ed1d357-fc4a-4870-dd55-b0815e38b12b"
      },
      "execution_count": 7,
      "outputs": [
        {
          "output_type": "stream",
          "name": "stdout",
          "text": [
            "trek\n",
            "redline\n",
            "giant\n",
            "['trek', 'redline', 'giant']\n",
            "[1, 4, 9, 16, 25, 36, 49, 64, 81, 100]\n"
          ]
        }
      ]
    },
    {
      "cell_type": "code",
      "source": [
        "# List comprehensions\n",
        "squares = [x**2 for x in range(1,11)]\n",
        "\n",
        "# Slicing a list\n",
        "finishers = ['sam', 'bob', 'ada', 'bea']\n",
        "first_two = finishers[:2]\n",
        "print('first_two = ' + first_two[0] + \" \" + first_two[1])\n",
        "\n",
        "# Copyng a list\n",
        "copy_of_bikes = bikes[:]\n",
        "print(copy_of_bikes)"
      ],
      "metadata": {
        "colab": {
          "base_uri": "https://localhost:8080/"
        },
        "id": "dN8QwDp1VHP4",
        "outputId": "dde99f7b-720c-4d92-ce9e-ba00af12c51a"
      },
      "execution_count": 18,
      "outputs": [
        {
          "output_type": "stream",
          "name": "stdout",
          "text": [
            "first_two = sam bob\n",
            "['redline', 'giant']\n"
          ]
        }
      ]
    },
    {
      "cell_type": "markdown",
      "source": [
        "##Tuples\n",
        "Tuples are similar to lists, but the items in a tuple can't be modified."
      ],
      "metadata": {
        "id": "mzb8FiV0VEhK"
      }
    },
    {
      "cell_type": "code",
      "source": [
        "# Making a tuple\n",
        "dimensions = (1920, 1080)\n",
        "print(dimensions)"
      ],
      "metadata": {
        "colab": {
          "base_uri": "https://localhost:8080/"
        },
        "id": "F92BdanSXC-1",
        "outputId": "9fdd4736-5d23-4915-a217-e9761160937f"
      },
      "execution_count": 19,
      "outputs": [
        {
          "output_type": "stream",
          "name": "stdout",
          "text": [
            "(1920, 1080)\n"
          ]
        }
      ]
    },
    {
      "cell_type": "markdown",
      "source": [
        "##If statements\n",
        "If statements ares used to test for particular conditions and responde appropriately"
      ],
      "metadata": {
        "id": "jqa8Fec0XP-O"
      }
    },
    {
      "cell_type": "code",
      "source": [
        "#Conditional tests\n",
        "\n",
        "#equals\n",
        "x==42\n",
        "#not equal\n",
        "x != 42\n",
        "#greater than\n",
        "x > 42\n",
        "#greater or equal to\n",
        "x >= 42\n",
        "#less than\n",
        "x < 42\n",
        "# less or equal to\n",
        "x <= 42\n",
        "\n",
        "#Conditional test with lists\n",
        "'trek' in bikes\n",
        "'surly' not in bikes\n",
        "\n",
        "#Assigning boolean values\n",
        "game_active = True\n",
        "can_edit = False\n"
      ],
      "metadata": {
        "id": "TAwQtMZmXbqA"
      },
      "execution_count": null,
      "outputs": []
    },
    {
      "cell_type": "code",
      "source": [
        "# A simple test\n",
        "age = 24\n",
        "\n",
        "if age >= 18 :\n",
        "  print ('you can vote!')\n",
        "\n",
        "# If-elif-else statement\n",
        "if age < 4:\n",
        "  ticket_price = 0\n",
        "elif age < 18:\n",
        "  ticket_price = 10\n",
        "else:\n",
        "  ticket_price = 15\n",
        "\n",
        "print(ticket_price)"
      ],
      "metadata": {
        "colab": {
          "base_uri": "https://localhost:8080/"
        },
        "id": "IZCuiFzIprkj",
        "outputId": "06e4ac73-b95b-4b79-e183-0f74f7ed4bed"
      },
      "execution_count": 3,
      "outputs": [
        {
          "output_type": "stream",
          "name": "stdout",
          "text": [
            "you can vote!\n",
            "15\n"
          ]
        }
      ]
    },
    {
      "cell_type": "markdown",
      "source": [
        "##Dictionaries\n",
        "Dictionaries store connections between pieces of information. Each item in a dictionary is a key-value pair."
      ],
      "metadata": {
        "id": "XNCcmp3hqfyr"
      }
    },
    {
      "cell_type": "code",
      "source": [
        "# A simple dictionary\n",
        "alien = {'color':'green', 'points': 5}\n",
        "\n",
        "#Accessing a value\n",
        "print(\"The alien's color is \" + alien['color'])\n",
        "\n",
        "#Adding a new key-value pair\n",
        "alien['x_position'] = 0\n",
        "\n",
        "#Looping through all key-value pairs\n",
        "fav_numbers = {'eric':17 , 'ever':4}\n",
        "for name, number in fav_numbers.items():\n",
        "  print(name + ' loves ' + str(number))\n",
        "\n",
        "#Looping through all keys\n",
        "for name in fav_numbers.keys():\n",
        "  print(name + ' loves a number')\n",
        "\n",
        "#Looping through all the values\n",
        "for number in fav_numbers.values():\n",
        "  print(str(number) + ' is a favorite')"
      ],
      "metadata": {
        "colab": {
          "base_uri": "https://localhost:8080/"
        },
        "id": "UKGAPVuhqsHb",
        "outputId": "a39f676b-b8ff-4171-b459-bb8760d96fb3"
      },
      "execution_count": 10,
      "outputs": [
        {
          "output_type": "stream",
          "name": "stdout",
          "text": [
            "The alien's color is green\n",
            "eric loves 17\n",
            "ever loves 4\n",
            "eric loves a number\n",
            "ever loves a number\n",
            "17 is a favorite\n",
            "4 is a favorite\n"
          ]
        }
      ]
    },
    {
      "cell_type": "markdown",
      "source": [
        "##User input\n",
        "Your programs can prompt the user for input. All input is stored as a string"
      ],
      "metadata": {
        "id": "g4XyNiKSt7Ih"
      }
    }
  ]
}