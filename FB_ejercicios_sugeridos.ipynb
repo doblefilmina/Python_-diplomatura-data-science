{
  "nbformat": 4,
  "nbformat_minor": 0,
  "metadata": {
    "colab": {
      "provenance": [],
      "authorship_tag": "ABX9TyOHSy8OiV5mtQ86A+1k7mAR",
      "include_colab_link": true
    },
    "kernelspec": {
      "name": "python3",
      "display_name": "Python 3"
    },
    "language_info": {
      "name": "python"
    }
  },
  "cells": [
    {
      "cell_type": "markdown",
      "metadata": {
        "id": "view-in-github",
        "colab_type": "text"
      },
      "source": [
        "<a href=\"https://colab.research.google.com/github/doblefilmina/Python_-diplomatura-data-science/blob/main/FB_ejercicios_sugeridos.ipynb\" target=\"_parent\"><img src=\"https://colab.research.google.com/assets/colab-badge.svg\" alt=\"Open In Colab\"/></a>"
      ]
    },
    {
      "cell_type": "markdown",
      "source": [
        "# UTN. Diplomatura en Data Science\n",
        "## Introducción a Python"
      ],
      "metadata": {
        "id": "jVJF9udRyNfE"
      }
    },
    {
      "cell_type": "markdown",
      "source": [
        "###Ej 1.01\n",
        "Pidan el ingreso de un dato por teclado y guardenlo en una variable a.\n",
        "Muestren por pantalla el contenido de a"
      ],
      "metadata": {
        "id": "fZjiGg_PxlUv"
      }
    },
    {
      "cell_type": "code",
      "execution_count": null,
      "metadata": {
        "colab": {
          "base_uri": "https://localhost:8080/"
        },
        "id": "yJEpRgXRxfAy",
        "outputId": "58a73960-2980-4810-9781-de6f0c593176"
      },
      "outputs": [
        {
          "output_type": "stream",
          "name": "stdout",
          "text": [
            "sacaste el lavarropas?no\n",
            "no saqué el lavarropas\n"
          ]
        }
      ],
      "source": [
        "# Solicitud de dato\n",
        "a = input(\"sacaste el lavarropas?\")\n",
        "\n",
        "# Mostrar respuesta\n",
        "print(a + \" saqué el lavarropas\")"
      ]
    },
    {
      "cell_type": "markdown",
      "source": [
        "###Ej 1.02\n",
        "Pidan el ingreso de un dato por teclado y guárdenlo en una variable a.\n",
        "Convierta el dato a en un entero usando la función int.\n",
        "Muestren por pantalla el contenido de a."
      ],
      "metadata": {
        "id": "I4t7oY7FzkU3"
      }
    },
    {
      "cell_type": "code",
      "source": [
        "# Pedir dato a\n",
        "a = input(\"Cuántas vidas le quedan a tu gato? : \")\n",
        "\n",
        "# Convertir a de string a entero\n",
        "a = int(a)\n",
        "\n",
        "# Mostrar a en pantalla (es necesario mostrarlo como string)\n",
        "print(\"A tu gato le quedan \" + str(a) + \" vidas\")\n",
        "\n"
      ],
      "metadata": {
        "colab": {
          "base_uri": "https://localhost:8080/"
        },
        "id": "n5xDEZ2pzvcz",
        "outputId": "c1c06a2c-6be7-4120-efc2-5504366300dd"
      },
      "execution_count": null,
      "outputs": [
        {
          "output_type": "stream",
          "name": "stdout",
          "text": [
            "Cuántas vidas le quedan a tu gato? : 4\n",
            "A tu gato le quedan 4 vidas\n"
          ]
        }
      ]
    },
    {
      "cell_type": "markdown",
      "source": [
        "###Ej 1.03\n",
        "Pidan el ingreso de dos datos a y b por teclado.\n",
        "Convierta a y b a enteros usando la función int.\n",
        "Muestren por pantalla el contenido de a+b"
      ],
      "metadata": {
        "id": "OyAF6rqM07_5"
      }
    },
    {
      "cell_type": "code",
      "source": [
        "# Solicitud de datos. Pruebo con un diccionario a ver qué pasa.\n",
        "datos = {'a':input(\"Cuánto peso levantás de pecho? : \"), 'b': input(\"Cuántos gramos pesa el alma? : \")}\n",
        "\n",
        "# Convertir los datos en enteros\n",
        "for number in datos.values() :\n",
        "  number = int(number)\n",
        "  print(type(number))\n",
        "#Esto no funciona porque no los guardo de nuevo en el diccionario. La variable\n",
        "# number queda convertida a integer dentro de loop.\n",
        "\n",
        "#La forma de hacerlo:\n",
        "#datos[key]= int(datos[key])\n",
        "\n",
        "#Pruebo un loop, para corregir la forma anterior\n",
        "for key in datos.keys() :\n",
        "  datos[key]= int(datos[key])\n",
        "  print(type(datos[key]))\n",
        "\n",
        "# Los guardo en una variable aparte también\n",
        "c = int(datos['a']) + int(datos['b'])\n",
        "\n",
        "# Imprimo en pantalla algunas cosas que quiero ver\n",
        "print(\"a + b = \" + str(datos['a'] + datos['b']))\n",
        "print(\"a + b = \" + str(c))\n",
        "print(type(datos['a']))"
      ],
      "metadata": {
        "colab": {
          "base_uri": "https://localhost:8080/"
        },
        "id": "2Fy4-zT1181X",
        "outputId": "4e30c500-b1a1-4751-cd2c-6dc1429d23f2"
      },
      "execution_count": 1,
      "outputs": [
        {
          "output_type": "stream",
          "name": "stdout",
          "text": [
            "Cuánto peso levantás de pecho? : 120\n",
            "Cuántos gramos pesa el alma? : 21\n",
            "<class 'int'>\n",
            "<class 'int'>\n",
            "<class 'int'>\n",
            "<class 'int'>\n",
            "a + b = 141\n",
            "a + b = 141\n",
            "<class 'int'>\n"
          ]
        }
      ]
    },
    {
      "cell_type": "code",
      "source": [
        "#Lo resuelvo más simple\n",
        "# Solicitud de datos.\n",
        "a = input(\"Cuánto peso levantás de pecho? : \")\n",
        "b = input(\"Cuántos gramos pesa el alma? : \")\n",
        "\n",
        "# Convertir los datos en enteros\n",
        "a = int(a)\n",
        "b = int (b)\n",
        "\n",
        "# Imprimo en pantalla algunas cosas que quiero ver\n",
        "print(\"a + b = \" + str(a+b))"
      ],
      "metadata": {
        "colab": {
          "base_uri": "https://localhost:8080/"
        },
        "id": "STPTe94Q9LX7",
        "outputId": "a274ad3a-408d-4849-bd9b-22f5a7b42a4d"
      },
      "execution_count": null,
      "outputs": [
        {
          "output_type": "stream",
          "name": "stdout",
          "text": [
            "Cuánto peso levantás de pecho? : 120\n",
            "Cuántos gramos pesa el alma? : 21\n",
            "a + b = 141\n"
          ]
        }
      ]
    },
    {
      "cell_type": "markdown",
      "source": [
        "###Ej 1.04\n",
        "Pidan el ingreso de dos datos a y b por teclado.\n",
        "Convierta a y b a enteros usando la función int.\n",
        "Muestren por pantalla el contenido de a-b"
      ],
      "metadata": {
        "id": "9Eoh594Z9Br3"
      }
    },
    {
      "cell_type": "code",
      "source": [
        "# Solicitud de datos.\n",
        "a = input(\"Cuánto peso levantás de pecho? : \")\n",
        "b = input(\"Cuántos gramos pesa el alma? : \")\n",
        "\n",
        "# Convertir los datos en enteros\n",
        "a = int(a)\n",
        "b = int (b)\n",
        "\n",
        "# Imprimo en pantalla algunas cosas que quiero ver\n",
        "print(\"a - b = \" + str(a-b))"
      ],
      "metadata": {
        "colab": {
          "base_uri": "https://localhost:8080/"
        },
        "id": "is2HDsaX-jLz",
        "outputId": "841db7b8-0269-41c8-abb0-440d2ea659de"
      },
      "execution_count": null,
      "outputs": [
        {
          "output_type": "stream",
          "name": "stdout",
          "text": [
            "Cuánto peso levantás de pecho? : 56\n",
            "Cuántos gramos pesa el alma? : 4\n",
            "a - b = 52\n"
          ]
        }
      ]
    },
    {
      "cell_type": "markdown",
      "source": [
        "##Ej 1.05\n",
        "Pidan el ingreso de dos datos a y b por teclado.\n",
        "Convierta a y b a enteros usando la función int.\n",
        "Muestren por pantalla el contenido de a*b."
      ],
      "metadata": {
        "id": "rcwg1BCV-ygw"
      }
    },
    {
      "cell_type": "code",
      "source": [
        "# Solicitud de datos.\n",
        "a = input(\"Cuánto peso levantás de pecho? : \")\n",
        "b = input(\"Cuántos gramos pesa el alma? : \")\n",
        "\n",
        "# Convertir los datos en enteros\n",
        "a = int(a)\n",
        "b = int (b)\n",
        "\n",
        "# Imprimo en pantalla algunas cosas que quiero ver\n",
        "print(\"a * b = \" + str(a*b))"
      ],
      "metadata": {
        "colab": {
          "base_uri": "https://localhost:8080/"
        },
        "id": "CW9xwjTm_Hm5",
        "outputId": "5892fae9-21a7-4281-a987-548cc9bc66eb"
      },
      "execution_count": null,
      "outputs": [
        {
          "output_type": "stream",
          "name": "stdout",
          "text": [
            "Cuánto peso levantás de pecho? : 20\n",
            "Cuántos gramos pesa el alma? : 21\n",
            "a * b = 420\n"
          ]
        }
      ]
    },
    {
      "cell_type": "markdown",
      "source": [
        "##Ej 1.06\n",
        "Pidan el ingreso de dos datos a y b por teclado.\n",
        "Convierta a y b a enteros usando la función int.\n",
        "Muestren por pantalla el contenido de a/b."
      ],
      "metadata": {
        "id": "NNcUhW0H_VHU"
      }
    },
    {
      "cell_type": "code",
      "source": [
        "# Solicitud de datos.\n",
        "a = input(\"Cuánto peso levantás de pecho? : \")\n",
        "b = input(\"Cuántos gramos pesa el alma? : \")\n",
        "\n",
        "# Convertir los datos en enteros\n",
        "a = int(a)\n",
        "b = int (b)\n",
        "\n",
        "# Imprimo en pantalla algunas cosas que quiero ver\n",
        "print(\"a / b = \" + str(a/b))"
      ],
      "metadata": {
        "colab": {
          "base_uri": "https://localhost:8080/"
        },
        "outputId": "4ab816dd-8306-4293-bdc5-528ebaaecee1",
        "id": "4uFz-xJZA0r3"
      },
      "execution_count": null,
      "outputs": [
        {
          "output_type": "stream",
          "name": "stdout",
          "text": [
            "Cuánto peso levantás de pecho? : 120\n",
            "Cuántos gramos pesa el alma? : 21\n",
            "a * b = 46005119909369701466112000000000000000000000\n"
          ]
        }
      ]
    },
    {
      "cell_type": "markdown",
      "source": [
        "##Ej 1.07\n",
        "Pidan el ingreso de dos datos a y b por teclado.\n",
        "Convierta a y b a enteros usando la función int.\n",
        "Muestren por pantalla el contenido de a**b (potencia)."
      ],
      "metadata": {
        "id": "m-1zhtb7_gSQ"
      }
    },
    {
      "cell_type": "code",
      "source": [
        "# Solicitud de datos.\n",
        "a = input(\"Cuánto peso levantás de pecho? : \")\n",
        "b = input(\"Cuántos gramos pesa el alma? : \")\n",
        "\n",
        "# Convertir los datos en enteros\n",
        "a = int(a)\n",
        "b = int (b)\n",
        "\n",
        "# Imprimo en pantalla algunas cosas que quiero ver\n",
        "print(\"a ** b = \" + str(a**b))"
      ],
      "metadata": {
        "colab": {
          "base_uri": "https://localhost:8080/"
        },
        "id": "xHoB6vfV_XTx",
        "outputId": "4ab816dd-8306-4293-bdc5-528ebaaecee1"
      },
      "execution_count": null,
      "outputs": [
        {
          "output_type": "stream",
          "name": "stdout",
          "text": [
            "Cuánto peso levantás de pecho? : 120\n",
            "Cuántos gramos pesa el alma? : 21\n",
            "a * b = 46005119909369701466112000000000000000000000\n"
          ]
        }
      ]
    },
    {
      "cell_type": "markdown",
      "source": [
        "##Ej 1.08\n",
        "Pidan el ingreso de dos datos a y b por teclado.\n",
        "Convierta a y b a enteros usando la función int.\n",
        "Muestren por pantalla el contenido de a//b (cociente)."
      ],
      "metadata": {
        "id": "QeVAGr9W_tMS"
      }
    },
    {
      "cell_type": "code",
      "source": [
        "# Solicitud de datos.\n",
        "a = input(\"Cuánto peso levantás de pecho? : \")\n",
        "b = input(\"Cuántos gramos pesa el alma? : \")\n",
        "\n",
        "# Convertir los datos en enteros\n",
        "a = int(a)\n",
        "b = int (b)\n",
        "\n",
        "# Imprimo en pantalla algunas cosas que quiero ver\n",
        "print(\"a // b = \" + str(a//b))"
      ],
      "metadata": {
        "colab": {
          "base_uri": "https://localhost:8080/"
        },
        "outputId": "025e4416-09f0-4aa1-f9ca-8ff0b14a3872",
        "id": "Oc3xCQgIAeJS"
      },
      "execution_count": null,
      "outputs": [
        {
          "output_type": "stream",
          "name": "stdout",
          "text": [
            "Cuánto peso levantás de pecho? : 120\n",
            "Cuántos gramos pesa el alma? : 21\n",
            "a // b = 5\n"
          ]
        }
      ]
    },
    {
      "cell_type": "markdown",
      "source": [
        "##Ej 1.09\n",
        "Pidan el ingreso de dos datos a y b por teclado.\n",
        "Convierta a y b a enteros usando la función int.\n",
        "Muestren por pantalla el contenido de a%b (Resto)."
      ],
      "metadata": {
        "id": "nJ3AavPLAuOT"
      }
    },
    {
      "cell_type": "code",
      "source": [
        "# Solicitud de datos.\n",
        "a = input(\"Cuánto peso levantás de pecho? : \")\n",
        "b = input(\"Cuántos gramos pesa el alma? : \")\n",
        "\n",
        "# Convertir los datos en enteros\n",
        "a = int(a)\n",
        "b = int (b)\n",
        "\n",
        "# Imprimo en pantalla algunas cosas que quiero ver\n",
        "print(\"a % b = \" + str(a%b))"
      ],
      "metadata": {
        "colab": {
          "base_uri": "https://localhost:8080/"
        },
        "outputId": "025e4416-09f0-4aa1-f9ca-8ff0b14a3872",
        "id": "Iww_4sa5BMu_"
      },
      "execution_count": null,
      "outputs": [
        {
          "output_type": "stream",
          "name": "stdout",
          "text": [
            "Cuánto peso levantás de pecho? : 120\n",
            "Cuántos gramos pesa el alma? : 21\n",
            "a // b = 5\n"
          ]
        }
      ]
    },
    {
      "cell_type": "markdown",
      "source": [
        "##Ej 1.10\n",
        "Pidan el ingreso de dos datos a y b por teclado.\n",
        "Convierta a y b a enteros usando la función int.\n",
        "Muestren por pantalla el contenido de a==b."
      ],
      "metadata": {
        "id": "tUWN5dKUBXDq"
      }
    },
    {
      "cell_type": "code",
      "source": [
        "# Solicitud de datos.\n",
        "a = input(\"Cuánto peso levantás de pecho? : \")\n",
        "b = input(\"Cuántos gramos pesa el alma? : \")\n",
        "\n",
        "# Convertir los datos en enteros\n",
        "a = int(a)\n",
        "b = int (b)\n",
        "\n",
        "# Imprimo en pantalla algunas cosas que quiero ver\n",
        "print(\"a == b = \" + str(a==b))"
      ],
      "metadata": {
        "colab": {
          "base_uri": "https://localhost:8080/"
        },
        "outputId": "9cb85993-1cc2-4dd4-983c-b6957b7cce2c",
        "id": "rNp8A1gCBdEh"
      },
      "execution_count": null,
      "outputs": [
        {
          "output_type": "stream",
          "name": "stdout",
          "text": [
            "Cuánto peso levantás de pecho? : 120\n",
            "Cuántos gramos pesa el alma? : 21\n",
            "a == b = False\n"
          ]
        }
      ]
    },
    {
      "cell_type": "markdown",
      "source": [
        "##Ej 1.11\n",
        "Pidan el ingreso de dos datos a y b por teclado.\n",
        "Convierta a y b a enteros usando la función int.\n",
        "Muestren por pantalla el contenido de a!=b."
      ],
      "metadata": {
        "id": "_8s69JXxBydA"
      }
    },
    {
      "cell_type": "code",
      "source": [
        "# Solicitud de datos.\n",
        "a = input(\"Cuánto peso levantás de pecho? : \")\n",
        "b = input(\"Cuántos gramos pesa el alma? : \")\n",
        "\n",
        "# Convertir los datos en enteros\n",
        "a = int(a)\n",
        "b = int (b)\n",
        "\n",
        "# Imprimo en pantalla algunas cosas que quiero ver\n",
        "print(\"a != b = \" + str(a!=b))"
      ],
      "metadata": {
        "colab": {
          "base_uri": "https://localhost:8080/"
        },
        "outputId": "eae097d3-e304-4344-bf4a-d2a4162dee71",
        "id": "KqN25zVfCB82"
      },
      "execution_count": 2,
      "outputs": [
        {
          "output_type": "stream",
          "name": "stdout",
          "text": [
            "Cuánto peso levantás de pecho? : 120\n",
            "Cuántos gramos pesa el alma? : 21\n",
            "a != b = True\n"
          ]
        }
      ]
    },
    {
      "cell_type": "markdown",
      "source": [
        "##Ej 1.12\n",
        "Pidan el ingreso de dos datos a y b por teclado.\n",
        "Convierta a y b a enteros usando la función int.\n",
        "Muestren por pantalla el contenido de a<b."
      ],
      "metadata": {
        "id": "PVDL80qyCKok"
      }
    },
    {
      "cell_type": "code",
      "source": [
        "# Solicitud de datos.\n",
        "a = input(\"Cuánto peso levantás de pecho? : \")\n",
        "b = input(\"Cuántos gramos pesa el alma? : \")\n",
        "\n",
        "# Convertir los datos en enteros\n",
        "a = int(a)\n",
        "b = int (b)\n",
        "\n",
        "# Imprimo en pantalla algunas cosas que quiero ver\n",
        "print(\"a < b = \" + str(a<b))"
      ],
      "metadata": {
        "colab": {
          "base_uri": "https://localhost:8080/"
        },
        "outputId": "32799112-3d7c-4657-9d48-7ba5bc4bcd21",
        "id": "zUduB9gmCQoW"
      },
      "execution_count": 3,
      "outputs": [
        {
          "output_type": "stream",
          "name": "stdout",
          "text": [
            "Cuánto peso levantás de pecho? : 120\n",
            "Cuántos gramos pesa el alma? : 21\n",
            "a < b = False\n"
          ]
        }
      ]
    },
    {
      "cell_type": "markdown",
      "source": [
        "##Ej 1.13\n",
        "Pidan el ingreso de dos datos a y b por teclado.\n",
        "Convierta a y b a enteros usando la función int.\n",
        "Muestren por pantalla el contenido de a<=b."
      ],
      "metadata": {
        "id": "eMg9Ddg9C1Zz"
      }
    },
    {
      "cell_type": "code",
      "source": [
        "# Solicitud de datos.\n",
        "a = input(\"Cuánto peso levantás de pecho? : \")\n",
        "b = input(\"Cuántos gramos pesa el alma? : \")\n",
        "\n",
        "# Convertir los datos en enteros\n",
        "a = int(a)\n",
        "b = int (b)\n",
        "\n",
        "# Imprimo en pantalla algunas cosas que quiero ver\n",
        "print(\"a <= b = \" + str(a<=b))"
      ],
      "metadata": {
        "colab": {
          "base_uri": "https://localhost:8080/"
        },
        "outputId": "bd64ebb0-56c9-4372-a05f-1e42e86c6818",
        "id": "EOg0k2NRC7Ww"
      },
      "execution_count": 4,
      "outputs": [
        {
          "output_type": "stream",
          "name": "stdout",
          "text": [
            "Cuánto peso levantás de pecho? : 120\n",
            "Cuántos gramos pesa el alma? : 1\n",
            "a <= b = False\n"
          ]
        }
      ]
    },
    {
      "cell_type": "markdown",
      "source": [
        "##Ej 1.14\n",
        "Pidan el ingreso de dos datos a y b por teclado.\n",
        "Convierta a y b a enteros usando la función int.\n",
        "Muestren por pantalla el contenido de a>b."
      ],
      "metadata": {
        "id": "mr59QvWzDEvl"
      }
    },
    {
      "cell_type": "code",
      "source": [
        "# Solicitud de datos.\n",
        "a = input(\"Cuánto peso levantás de pecho? : \")\n",
        "b = input(\"Cuántos gramos pesa el alma? : \")\n",
        "\n",
        "# Convertir los datos en enteros\n",
        "a = int(a)\n",
        "b = int (b)\n",
        "\n",
        "# Imprimo en pantalla algunas cosas que quiero ver\n",
        "print(\"a > b = \" + str(a>b))"
      ],
      "metadata": {
        "colab": {
          "base_uri": "https://localhost:8080/"
        },
        "outputId": "7af8a0d2-12e7-46af-89ee-faff13df9ccf",
        "id": "jRalF3ohDLQ9"
      },
      "execution_count": 5,
      "outputs": [
        {
          "output_type": "stream",
          "name": "stdout",
          "text": [
            "Cuánto peso levantás de pecho? : 120\n",
            "Cuántos gramos pesa el alma? : 21\n",
            "a > b = True\n"
          ]
        }
      ]
    },
    {
      "cell_type": "markdown",
      "source": [
        "##Ej 1.15\n",
        "Pidan el ingreso de dos datos a y b por teclado.\n",
        "Convierta a y b a enteros usando la función int.\n",
        "Muestren por pantalla el contenido de a>=b."
      ],
      "metadata": {
        "id": "2awXWSwiDURe"
      }
    },
    {
      "cell_type": "code",
      "source": [
        "# Solicitud de datos.\n",
        "a = input(\"Cuánto peso levantás de pecho? : \")\n",
        "b = input(\"Cuántos gramos pesa el alma? : \")\n",
        "\n",
        "# Convertir los datos en enteros\n",
        "a = int(a)\n",
        "b = int (b)\n",
        "\n",
        "# Imprimo en pantalla algunas cosas que quiero ver\n",
        "print(\"a >= b = \" + str(a>=b))"
      ],
      "metadata": {
        "colab": {
          "base_uri": "https://localhost:8080/"
        },
        "outputId": "71d41d7b-bafe-4fc6-daf3-e2f28577f1c6",
        "id": "DjW4NiKcDZE9"
      },
      "execution_count": 6,
      "outputs": [
        {
          "output_type": "stream",
          "name": "stdout",
          "text": [
            "Cuánto peso levantás de pecho? : 120\n",
            "Cuántos gramos pesa el alma? : 21\n",
            "a >= b = True\n"
          ]
        }
      ]
    },
    {
      "cell_type": "markdown",
      "source": [
        "##Ej 1.16\n",
        "Pidan el ingreso de dos datos a, b, c y d por teclado.\n",
        "Convierta a, b, c y d a enteros usando la función int.\n",
        "Muestren por pantalla el contenido de a==b AND c==d."
      ],
      "metadata": {
        "id": "DbhbB-woDfdu"
      }
    },
    {
      "cell_type": "code",
      "source": [
        "# Solicitud de datos.\n",
        "a = input(\"Ingrese a : \")\n",
        "b = input(\"Ingrese b : \")\n",
        "c = input(\"Ingrese c : \")\n",
        "d = input(\"Ingrese d : \")\n",
        "\n",
        "# Convertir los datos en enteros\n",
        "#a, b, c, d = int(a, b, c, d) # no funciona\n",
        "a = int(a)\n",
        "b = int(b)\n",
        "c = int(c)\n",
        "d = int(d)\n",
        "\n",
        "\n",
        "# Imprimo en pantalla algunas cosas que quiero ver\n",
        "print(\"a==b AND c==d : \" + str(a==b and c==d))\n",
        "print(\"a==b : \" + str(a==b))\n",
        "print(\"c==d : \" + str(c==d))"
      ],
      "metadata": {
        "colab": {
          "base_uri": "https://localhost:8080/"
        },
        "outputId": "d489b281-819e-4cd8-9bae-1dfc60e035be",
        "id": "ZXgNus4iDsaX"
      },
      "execution_count": 19,
      "outputs": [
        {
          "output_type": "stream",
          "name": "stdout",
          "text": [
            "Ingrese a : 4\n",
            "Ingrese b : 4\n",
            "Ingrese c : 6\n",
            "Ingrese d : 6\n",
            "a==b AND c==d : True\n",
            "a==b : True\n",
            "c==d : True\n"
          ]
        }
      ]
    },
    {
      "cell_type": "markdown",
      "source": [
        "##Ej 1.17\n",
        "Pidan el ingreso de dos datos a, b, c y d por teclado.\n",
        "Convierta a, b, c y d a enteros usando la función int.\n",
        "Muestren por pantalla el contenido de a==b OR c==d."
      ],
      "metadata": {
        "id": "wu0PtamsFzQl"
      }
    },
    {
      "cell_type": "code",
      "source": [
        "# Solicitud de datos.\n",
        "a = input(\"Ingrese a : \")\n",
        "b = input(\"Ingrese b : \")\n",
        "c = input(\"Ingrese c : \")\n",
        "d = input(\"Ingrese d : \")\n",
        "\n",
        "# Convertir los datos en enteros\n",
        "#a, b, c, d = int(a, b, c, d) # no funciona\n",
        "a = int(a)\n",
        "b = int(b)\n",
        "c = int(c)\n",
        "d = int(d)\n",
        "\n",
        "\n",
        "# Imprimo en pantalla algunas cosas que quiero ver\n",
        "print(\"a==b OR c==d : \" + str(a==b or c==d))\n",
        "print(\"a==b : \" + str(a==b))\n",
        "print(\"c==d : \" + str(c==d))"
      ],
      "metadata": {
        "colab": {
          "base_uri": "https://localhost:8080/"
        },
        "outputId": "01676590-67e0-4ba8-c064-4f9b4afd43cf",
        "id": "lTC9HjJlF8PD"
      },
      "execution_count": 20,
      "outputs": [
        {
          "output_type": "stream",
          "name": "stdout",
          "text": [
            "Ingrese a : 4\n",
            "Ingrese b : 5\n",
            "Ingrese c : 6\n",
            "Ingrese d : 6\n",
            "a==b OR c==d : True\n",
            "a==b : False\n",
            "c==d : True\n"
          ]
        }
      ]
    },
    {
      "cell_type": "markdown",
      "source": [
        "#ERROR. CÓMO SE USA?\n",
        "##Ej 1.18\n",
        "Pidan el ingreso de dos datos a, b, c y d por teclado.\n",
        "Convierta a, b, c y d a enteros usando la función int.\n",
        "Muestren por pantalla el contenido de a==b OR NOT c==d."
      ],
      "metadata": {
        "id": "fGsWwON6G8OQ"
      }
    },
    {
      "cell_type": "code",
      "source": [
        "# Solicitud de datos.\n",
        "a = input(\"Ingrese a : \")\n",
        "b = input(\"Ingrese b : \")\n",
        "c = input(\"Ingrese c : \")\n",
        "d = input(\"Ingrese d : \")\n",
        "\n",
        "# Convertir los datos en enteros\n",
        "#a, b, c, d = int(a, b, c, d) # no funciona\n",
        "a = int(a)\n",
        "b = int(b)\n",
        "c = int(c)\n",
        "d = int(d)\n",
        "\n",
        "\n",
        "# Imprimo en pantalla algunas cosas que quiero ver\n",
        "print(\"a==b OR NOT c==d : \" + str(a==b not c==d))\n",
        "print(\"a==b : \" + str(a==b))\n",
        "print(\"c==d : \" + str(c==d))"
      ],
      "metadata": {
        "colab": {
          "base_uri": "https://localhost:8080/",
          "height": 111
        },
        "outputId": "2352c25d-566f-47e9-ae30-39680284a97f",
        "id": "NGM_p1vlHGBS"
      },
      "execution_count": 24,
      "outputs": [
        {
          "output_type": "error",
          "ename": "SyntaxError",
          "evalue": "invalid syntax. Perhaps you forgot a comma? (<ipython-input-24-f0cc7bb8fde1>, line 16)",
          "traceback": [
            "\u001b[0;36m  File \u001b[0;32m\"<ipython-input-24-f0cc7bb8fde1>\"\u001b[0;36m, line \u001b[0;32m16\u001b[0m\n\u001b[0;31m    print(\"a==b OR NOT c==d : \" + str(a==b not c==d))\u001b[0m\n\u001b[0m                                      ^\u001b[0m\n\u001b[0;31mSyntaxError\u001b[0m\u001b[0;31m:\u001b[0m invalid syntax. Perhaps you forgot a comma?\n"
          ]
        }
      ]
    },
    {
      "cell_type": "markdown",
      "source": [
        "#ERROR. CÓMO SE USA?\n",
        "##Ej 1.19\n",
        "Pidan el ingreso de un dato a por teclado.\n",
        "Guarde en b el valor como flotante.\n",
        "Guarde en c el valor de a como string.\n",
        "Muestre por pantalla el contenido de a,b y c.\n",
        "Muestre por pantalla los tipos de a, b y c."
      ],
      "metadata": {
        "id": "b57Vl09IJJsq"
      }
    },
    {
      "cell_type": "code",
      "source": [
        "# Solicitud de datos.\n",
        "a = input(\"Ingrese a : \")\n",
        "\n",
        "# Convertir el dato\n",
        "#a = int(a)\n",
        "b = float(a)\n",
        "c = str(a)\n",
        "\n",
        "# Imprimo en pantalla algunas cosas que quiero ver\n",
        "print(\"a: \" + str(a))\n",
        "print(\"b: \" + str(b))\n",
        "print(\"c: \" + str(c))\n",
        "print(\"tipo a: \" + str(type(a)))\n",
        "print(\"tipo b: \" + str(type(b)))\n",
        "print(\"tipo c: \" + str(type(c)))\n"
      ],
      "metadata": {
        "colab": {
          "base_uri": "https://localhost:8080/"
        },
        "id": "CX0F_-j0DEBp",
        "outputId": "1533302d-4299-47c1-d6b6-f7b3f6d47447"
      },
      "execution_count": 30,
      "outputs": [
        {
          "output_type": "stream",
          "name": "stdout",
          "text": [
            "Ingrese a : 6\n",
            "a: 6\n",
            "b: 6.0\n",
            "c: 6\n",
            "tipo a: <class 'str'>\n",
            "tipo b: <class 'float'>\n",
            "tipo c: <class 'str'>\n"
          ]
        }
      ]
    },
    {
      "cell_type": "markdown",
      "source": [
        "##Ej 1.20\n",
        "Crear una lista con los días hábiles de la semana.\n",
        "Agregar a la lista el sábado y el domingo.\n",
        "Mostrar el contenido de la lista."
      ],
      "metadata": {
        "id": "-uctPs83K63O"
      }
    },
    {
      "cell_type": "code",
      "source": [
        "#Crear lista\n",
        "semana = [\"lunes\", \"martes\", \"miércoles\", \"jueves\", \"viernes\"]\n",
        "\n",
        "#Agregar\n",
        "semana.append(\"sábado\")\n",
        "semana.append(\"domingo\")\n",
        "\n",
        "print(semana)"
      ],
      "metadata": {
        "colab": {
          "base_uri": "https://localhost:8080/"
        },
        "id": "TN3NjrXILEQX",
        "outputId": "294f90bb-0a17-4f13-a0d5-94030e7472e1"
      },
      "execution_count": 32,
      "outputs": [
        {
          "output_type": "stream",
          "name": "stdout",
          "text": [
            "['lunes', 'martes', 'miércoles', 'jueves', 'viernes', 'sábado', 'domingo']\n"
          ]
        }
      ]
    }
  ]
}