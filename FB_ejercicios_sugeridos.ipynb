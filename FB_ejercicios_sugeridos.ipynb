{
  "nbformat": 4,
  "nbformat_minor": 0,
  "metadata": {
    "colab": {
      "provenance": [],
      "authorship_tag": "ABX9TyOnfM5OaOZo8V9ufWj47588",
      "include_colab_link": true
    },
    "kernelspec": {
      "name": "python3",
      "display_name": "Python 3"
    },
    "language_info": {
      "name": "python"
    }
  },
  "cells": [
    {
      "cell_type": "markdown",
      "metadata": {
        "id": "view-in-github",
        "colab_type": "text"
      },
      "source": [
        "<a href=\"https://colab.research.google.com/github/doblefilmina/Python_-diplomatura-data-science/blob/main/FB_ejercicios_sugeridos.ipynb\" target=\"_parent\"><img src=\"https://colab.research.google.com/assets/colab-badge.svg\" alt=\"Open In Colab\"/></a>"
      ]
    },
    {
      "cell_type": "markdown",
      "source": [
        "# UTN. Diplomatura en Data Science\n",
        "## Introducción a Python"
      ],
      "metadata": {
        "id": "jVJF9udRyNfE"
      }
    },
    {
      "cell_type": "markdown",
      "source": [
        "###Ej 1.01\n",
        "Pidan el ingreso de un dato por teclado y guardenlo en una variable a.\n",
        "Muestren por pantalla el contenido de a"
      ],
      "metadata": {
        "id": "fZjiGg_PxlUv"
      }
    },
    {
      "cell_type": "code",
      "execution_count": 3,
      "metadata": {
        "colab": {
          "base_uri": "https://localhost:8080/"
        },
        "id": "yJEpRgXRxfAy",
        "outputId": "58a73960-2980-4810-9781-de6f0c593176"
      },
      "outputs": [
        {
          "output_type": "stream",
          "name": "stdout",
          "text": [
            "sacaste el lavarropas?no\n",
            "no saqué el lavarropas\n"
          ]
        }
      ],
      "source": [
        "# Solicitud de dato\n",
        "a = input(\"sacaste el lavarropas?\")\n",
        "\n",
        "# Mostrar respuesta\n",
        "print(a + \" saqué el lavarropas\")"
      ]
    },
    {
      "cell_type": "markdown",
      "source": [
        "###Ej 1.02\n",
        "Pidan el ingreso de un dato por teclado y guárdenlo en una variable a.\n",
        "Convierta el dato a en un entero usando la función int.\n",
        "Muestren por pantalla el contenido de a."
      ],
      "metadata": {
        "id": "I4t7oY7FzkU3"
      }
    },
    {
      "cell_type": "code",
      "source": [
        "# Pedir dato a\n",
        "a = input(\"Cuántas vidas le quedan a tu gato? : \")\n",
        "\n",
        "# Convertir a de string a entero\n",
        "a = int(a)\n",
        "\n",
        "# Mostrar a en pantalla (es necesario mostrarlo como string)\n",
        "print(\"A tu gato le quedan \" + str(a) + \" vidas\")\n",
        "\n"
      ],
      "metadata": {
        "colab": {
          "base_uri": "https://localhost:8080/"
        },
        "id": "n5xDEZ2pzvcz",
        "outputId": "c1c06a2c-6be7-4120-efc2-5504366300dd"
      },
      "execution_count": 7,
      "outputs": [
        {
          "output_type": "stream",
          "name": "stdout",
          "text": [
            "Cuántas vidas le quedan a tu gato? : 4\n",
            "A tu gato le quedan 4 vidas\n"
          ]
        }
      ]
    },
    {
      "cell_type": "markdown",
      "source": [
        "###Ej 1.03\n",
        "Pidan el ingreso de dos datos a y b por teclado.\n",
        "Convierta a y b a enteros usando la función int.\n",
        "Muestren por pantalla el contenido de a+b"
      ],
      "metadata": {
        "id": "OyAF6rqM07_5"
      }
    },
    {
      "cell_type": "code",
      "source": [
        "# Solicitud de datos. Pruebo con un diccionario a ver qué pasa.\n",
        "datos = {'a':input(\"Cuánto peso levantás de pecho? : \"), 'b': input(\"Cuántos gramos pesa el alma? : \")}\n",
        "\n",
        "# Convertir los datos en enteros\n",
        "for number in datos.values() :\n",
        "  number = int(number)\n",
        "  print(type(number))\n",
        "\n",
        "# Los guardo en una variable aparte también\n",
        "c = int(datos['a']) + int(datos['b'])\n",
        "\n",
        "# Imprimo en pantalla algunas cosas que quiero ver\n",
        "print(\"a + b = \" + str(datos['a'] + datos['b']))\n",
        "print(\"a + b = \" + str(c))\n",
        "print(type(datos['a']))"
      ],
      "metadata": {
        "colab": {
          "base_uri": "https://localhost:8080/"
        },
        "id": "2Fy4-zT1181X",
        "outputId": "3e15216e-40ab-4fe5-d287-36928ff89a0a"
      },
      "execution_count": 18,
      "outputs": [
        {
          "output_type": "stream",
          "name": "stdout",
          "text": [
            "Cuánto peso levantás de pecho? : 120\n",
            "Cuántos gramos pesa el alma? : 21\n",
            "<class 'int'>\n",
            "<class 'int'>\n",
            "a + b = 12021\n",
            "a + b = 141\n",
            "<class 'str'>\n"
          ]
        }
      ]
    },
    {
      "cell_type": "code",
      "source": [
        "#Lo resuelvo más simple\n",
        "# Solicitud de datos.\n",
        "a = input(\"Cuánto peso levantás de pecho? : \")\n",
        "b = input(\"Cuántos gramos pesa el alma? : \")\n",
        "\n",
        "# Convertir los datos en enteros\n",
        "a = int(a)\n",
        "b = int (b)\n",
        "\n",
        "# Imprimo en pantalla algunas cosas que quiero ver\n",
        "print(\"a + b = \" + str(a+b))"
      ],
      "metadata": {
        "colab": {
          "base_uri": "https://localhost:8080/"
        },
        "id": "STPTe94Q9LX7",
        "outputId": "a274ad3a-408d-4849-bd9b-22f5a7b42a4d"
      },
      "execution_count": 19,
      "outputs": [
        {
          "output_type": "stream",
          "name": "stdout",
          "text": [
            "Cuánto peso levantás de pecho? : 120\n",
            "Cuántos gramos pesa el alma? : 21\n",
            "a + b = 141\n"
          ]
        }
      ]
    },
    {
      "cell_type": "markdown",
      "source": [
        "###Ej 1.04\n",
        "Pidan el ingreso de dos datos a y b por teclado.\n",
        "Convierta a y b a enteros usando la función int.\n",
        "Muestren por pantalla el contenido de a-b"
      ],
      "metadata": {
        "id": "9Eoh594Z9Br3"
      }
    },
    {
      "cell_type": "code",
      "source": [
        "# Solicitud de datos.\n",
        "a = input(\"Cuánto peso levantás de pecho? : \")\n",
        "b = input(\"Cuántos gramos pesa el alma? : \")\n",
        "\n",
        "# Convertir los datos en enteros\n",
        "a = int(a)\n",
        "b = int (b)\n",
        "\n",
        "# Imprimo en pantalla algunas cosas que quiero ver\n",
        "print(\"a - b = \" + str(a-b))"
      ],
      "metadata": {
        "colab": {
          "base_uri": "https://localhost:8080/"
        },
        "id": "is2HDsaX-jLz",
        "outputId": "841db7b8-0269-41c8-abb0-440d2ea659de"
      },
      "execution_count": 21,
      "outputs": [
        {
          "output_type": "stream",
          "name": "stdout",
          "text": [
            "Cuánto peso levantás de pecho? : 56\n",
            "Cuántos gramos pesa el alma? : 4\n",
            "a - b = 52\n"
          ]
        }
      ]
    },
    {
      "cell_type": "markdown",
      "source": [
        "##Ej 1.05\n",
        "Pidan el ingreso de dos datos a y b por teclado.\n",
        "Convierta a y b a enteros usando la función int.\n",
        "Muestren por pantalla el contenido de a*b."
      ],
      "metadata": {
        "id": "rcwg1BCV-ygw"
      }
    },
    {
      "cell_type": "code",
      "source": [
        "# Solicitud de datos.\n",
        "a = input(\"Cuánto peso levantás de pecho? : \")\n",
        "b = input(\"Cuántos gramos pesa el alma? : \")\n",
        "\n",
        "# Convertir los datos en enteros\n",
        "a = int(a)\n",
        "b = int (b)\n",
        "\n",
        "# Imprimo en pantalla algunas cosas que quiero ver\n",
        "print(\"a * b = \" + str(a*b))"
      ],
      "metadata": {
        "colab": {
          "base_uri": "https://localhost:8080/"
        },
        "id": "CW9xwjTm_Hm5",
        "outputId": "5892fae9-21a7-4281-a987-548cc9bc66eb"
      },
      "execution_count": 22,
      "outputs": [
        {
          "output_type": "stream",
          "name": "stdout",
          "text": [
            "Cuánto peso levantás de pecho? : 20\n",
            "Cuántos gramos pesa el alma? : 21\n",
            "a * b = 420\n"
          ]
        }
      ]
    },
    {
      "cell_type": "markdown",
      "source": [
        "##Ej 1.06\n",
        "Pidan el ingreso de dos datos a y b por teclado.\n",
        "Convierta a y b a enteros usando la función int.\n",
        "Muestren por pantalla el contenido de a/b."
      ],
      "metadata": {
        "id": "NNcUhW0H_VHU"
      }
    },
    {
      "cell_type": "code",
      "source": [
        "# Solicitud de datos.\n",
        "a = input(\"Cuánto peso levantás de pecho? : \")\n",
        "b = input(\"Cuántos gramos pesa el alma? : \")\n",
        "\n",
        "# Convertir los datos en enteros\n",
        "a = int(a)\n",
        "b = int (b)\n",
        "\n",
        "# Imprimo en pantalla algunas cosas que quiero ver\n",
        "print(\"a / b = \" + str(a/b))"
      ],
      "metadata": {
        "colab": {
          "base_uri": "https://localhost:8080/"
        },
        "outputId": "4ab816dd-8306-4293-bdc5-528ebaaecee1",
        "id": "4uFz-xJZA0r3"
      },
      "execution_count": null,
      "outputs": [
        {
          "output_type": "stream",
          "name": "stdout",
          "text": [
            "Cuánto peso levantás de pecho? : 120\n",
            "Cuántos gramos pesa el alma? : 21\n",
            "a * b = 46005119909369701466112000000000000000000000\n"
          ]
        }
      ]
    },
    {
      "cell_type": "markdown",
      "source": [
        "##Ej 1.07\n",
        "Pidan el ingreso de dos datos a y b por teclado.\n",
        "Convierta a y b a enteros usando la función int.\n",
        "Muestren por pantalla el contenido de a**b (potencia)."
      ],
      "metadata": {
        "id": "m-1zhtb7_gSQ"
      }
    },
    {
      "cell_type": "code",
      "source": [
        "# Solicitud de datos.\n",
        "a = input(\"Cuánto peso levantás de pecho? : \")\n",
        "b = input(\"Cuántos gramos pesa el alma? : \")\n",
        "\n",
        "# Convertir los datos en enteros\n",
        "a = int(a)\n",
        "b = int (b)\n",
        "\n",
        "# Imprimo en pantalla algunas cosas que quiero ver\n",
        "print(\"a ** b = \" + str(a**b))"
      ],
      "metadata": {
        "colab": {
          "base_uri": "https://localhost:8080/"
        },
        "id": "xHoB6vfV_XTx",
        "outputId": "4ab816dd-8306-4293-bdc5-528ebaaecee1"
      },
      "execution_count": 23,
      "outputs": [
        {
          "output_type": "stream",
          "name": "stdout",
          "text": [
            "Cuánto peso levantás de pecho? : 120\n",
            "Cuántos gramos pesa el alma? : 21\n",
            "a * b = 46005119909369701466112000000000000000000000\n"
          ]
        }
      ]
    },
    {
      "cell_type": "markdown",
      "source": [
        "##Ej 1.08\n",
        "Pidan el ingreso de dos datos a y b por teclado.\n",
        "Convierta a y b a enteros usando la función int.\n",
        "Muestren por pantalla el contenido de a//b (cociente)."
      ],
      "metadata": {
        "id": "QeVAGr9W_tMS"
      }
    },
    {
      "cell_type": "code",
      "source": [
        "# Solicitud de datos.\n",
        "a = input(\"Cuánto peso levantás de pecho? : \")\n",
        "b = input(\"Cuántos gramos pesa el alma? : \")\n",
        "\n",
        "# Convertir los datos en enteros\n",
        "a = int(a)\n",
        "b = int (b)\n",
        "\n",
        "# Imprimo en pantalla algunas cosas que quiero ver\n",
        "print(\"a // b = \" + str(a//b))"
      ],
      "metadata": {
        "colab": {
          "base_uri": "https://localhost:8080/"
        },
        "outputId": "025e4416-09f0-4aa1-f9ca-8ff0b14a3872",
        "id": "Oc3xCQgIAeJS"
      },
      "execution_count": 24,
      "outputs": [
        {
          "output_type": "stream",
          "name": "stdout",
          "text": [
            "Cuánto peso levantás de pecho? : 120\n",
            "Cuántos gramos pesa el alma? : 21\n",
            "a // b = 5\n"
          ]
        }
      ]
    },
    {
      "cell_type": "markdown",
      "source": [
        "##Ej 1.09\n",
        "Pidan el ingreso de dos datos a y b por teclado.\n",
        "Convierta a y b a enteros usando la función int.\n",
        "Muestren por pantalla el contenido de a%b (Resto)."
      ],
      "metadata": {
        "id": "nJ3AavPLAuOT"
      }
    },
    {
      "cell_type": "code",
      "source": [
        "# Solicitud de datos.\n",
        "a = input(\"Cuánto peso levantás de pecho? : \")\n",
        "b = input(\"Cuántos gramos pesa el alma? : \")\n",
        "\n",
        "# Convertir los datos en enteros\n",
        "a = int(a)\n",
        "b = int (b)\n",
        "\n",
        "# Imprimo en pantalla algunas cosas que quiero ver\n",
        "print(\"a % b = \" + str(a%b))"
      ],
      "metadata": {
        "colab": {
          "base_uri": "https://localhost:8080/"
        },
        "outputId": "025e4416-09f0-4aa1-f9ca-8ff0b14a3872",
        "id": "Iww_4sa5BMu_"
      },
      "execution_count": null,
      "outputs": [
        {
          "output_type": "stream",
          "name": "stdout",
          "text": [
            "Cuánto peso levantás de pecho? : 120\n",
            "Cuántos gramos pesa el alma? : 21\n",
            "a // b = 5\n"
          ]
        }
      ]
    },
    {
      "cell_type": "markdown",
      "source": [
        "##Ej 1.10\n",
        "Pidan el ingreso de dos datos a y b por teclado.\n",
        "Convierta a y b a enteros usando la función int.\n",
        "Muestren por pantalla el contenido de a==b."
      ],
      "metadata": {
        "id": "tUWN5dKUBXDq"
      }
    },
    {
      "cell_type": "code",
      "source": [
        "# Solicitud de datos.\n",
        "a = input(\"Cuánto peso levantás de pecho? : \")\n",
        "b = input(\"Cuántos gramos pesa el alma? : \")\n",
        "\n",
        "# Convertir los datos en enteros\n",
        "a = int(a)\n",
        "b = int (b)\n",
        "\n",
        "# Imprimo en pantalla algunas cosas que quiero ver\n",
        "print(\"a == b = \" + str(a==b))"
      ],
      "metadata": {
        "colab": {
          "base_uri": "https://localhost:8080/"
        },
        "outputId": "9cb85993-1cc2-4dd4-983c-b6957b7cce2c",
        "id": "rNp8A1gCBdEh"
      },
      "execution_count": 25,
      "outputs": [
        {
          "output_type": "stream",
          "name": "stdout",
          "text": [
            "Cuánto peso levantás de pecho? : 120\n",
            "Cuántos gramos pesa el alma? : 21\n",
            "a == b = False\n"
          ]
        }
      ]
    }
  ]
}